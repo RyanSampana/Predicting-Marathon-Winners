{
 "cells": [
  {
   "cell_type": "code",
   "execution_count": 1,
   "metadata": {
    "collapsed": true
   },
   "outputs": [],
   "source": [
    "import csv\n",
    "import math\n",
    "import random\n",
    "import pandas as pd\n",
    "import numpy as np"
   ]
  },
  {
   "cell_type": "code",
   "execution_count": 2,
   "metadata": {
    "collapsed": false
   },
   "outputs": [],
   "source": [
    "# randomly splits the dataset in trainSet and testSet with a ratio of splitRatio\n",
    "def splitDataset(dataset, splitRatio):\n",
    "    trainSize = int(len(dataset) * splitRatio)\n",
    "    trainSet = []\n",
    "    testSet = list(dataset)\n",
    "    while len(trainSet) < trainSize:\n",
    "        index = random.randrange(len(testSet))\n",
    "        trainSet.append(testSet.pop(index))\n",
    "    return [trainSet, testSet]\n",
    "\n",
    "def mean(numbers):\n",
    "    return sum(numbers)/float(len(numbers))\n",
    "\n",
    "def std(numbers):\n",
    "    avg = mean(numbers)\n",
    "    variance = sum([pow(x-avg,2) for x in numbers])/float(len(numbers)-1)\n",
    "    return math.sqrt(variance)\n",
    "\n",
    "\"\"\"Input: filename\n",
    "   Output:  \n",
    "   dataset = contains well formed dataset, \n",
    "   X feature matrix,\n",
    "   Y label vector, \n",
    "   columns names parameters of columns\n",
    "\"\"\"\n",
    "def getDataReady(filename):\n",
    "    with open(filename, 'rb') as csvfile:\n",
    "        reader = csv.reader(csvfile)\n",
    "        dataset = []\n",
    "        for row in reader:\n",
    "            for i in range(len(row)):\n",
    "                if (row[i] == 'male') or (row[i] == 'True') :\n",
    "                    row[i] = 1\n",
    "                elif (row[i] == 'female') or (row[i] == 'False'):\n",
    "                    row[i] = 0\n",
    "            #del row[0] # this deletes the participant ID number\n",
    "            dataset.append(row) \n",
    "        X = []\n",
    "        y = []\n",
    "        columns = dataset[0] # deletes the names of the columns\n",
    "        del dataset[0]\n",
    "        for row in dataset:\n",
    "            for i in range(len(row)):\n",
    "                row[i] = float(row[i])\n",
    "            X.append(row[0:-1])\n",
    "            y.append(row[-1])\n",
    "        return dataset,X,y,columns\n",
    "# for a feature xi calculate P(xi|y = participate) and P(xi|y= not participate)\n",
    "# input dataset, index of xi feature and index of y class \n",
    "# returns the C1: p(y=1)*p(xi=1|y=1) and C1: p(y=0)*p(xi=1|y=0)\n",
    "def getProbBinary(dataset,xi,y):\n",
    "    y0 = 0.0\n",
    "    y1 = 0.0\n",
    "    x1y1 = 0.0\n",
    "    x1y0 = 0.0\n",
    "    for row in dataset:\n",
    "        if row[y] == 0.0:\n",
    "            y0 = y0+1\n",
    "        if row[y] == 1.0:\n",
    "            y1 = y1+1\n",
    "        if row[y] == 1.0 and row[xi] == 1.0:\n",
    "            x1y1 = x1y1 + 1\n",
    "        if row[y] == 0.0 and row[xi] == 1.0:\n",
    "            x1y0 = x1y0 + 1\n",
    "    px1y1 = (x1y1)/(y1)\n",
    "    px1y0 = (x1y0)/(y0)\n",
    "    return px1y0,px1y1\n",
    "\n",
    "def getProbabilitiesContinuous(summaries, inputRow):\n",
    "    probabilities = {}\n",
    "    for classValue, classFeatures in summaries.iteritems():\n",
    "        probabilities[classValue] = 1\n",
    "        for i in range(len(classFeatures)):\n",
    "            mean, std = classFeatures[i]\n",
    "            x = inputRow[i]\n",
    "            probabilities[classValue] *= normalPDF(x, mean, std)\n",
    "    return probabilities\n",
    "\n",
    "# get the probabilty given a number x\n",
    "def normalPDF(x,mean,std):\n",
    "    exponent = math.exp(-(math.pow(x-mean,2)/(2*math.pow(std,2))))\n",
    "    return (1 / (math.sqrt(2*math.pi) * std)) * exponent\n",
    "\n",
    "# for feature xi \n",
    "# input= dataset, feature index xi, label index y\n",
    "# return= Y=0 : [mean,std] Y:1 [mean,std]\n",
    "def getMeanStd(dataset,xi,y):\n",
    "    x1s = []\n",
    "    x0s = []\n",
    "    for row in dataset:\n",
    "        if row[y] == 1.0:\n",
    "            x1s.append(row[xi])\n",
    "        if row[y] == 0.0:\n",
    "            x0s.append(row[xi])\n",
    "    return [mean(x0s),std(x0s)],[mean(x1s),std(x1s)]\n",
    "\n",
    "def predictBinary(dictBinary,inputRow):\n",
    "    probabilities = {}\n",
    "    for classValue, classFeatures in dictBinary.iteritems():\n",
    "        probabilities[classValue] = 1\n",
    "        for i in range(len(classFeatures)):\n",
    "            if inputRow[i] == 1:\n",
    "                probabilities[classValue] *= classFeatures[i]\n",
    "            if inputRow[i] == 0:\n",
    "                probabilities[classValue] *= (1-classFeatures[i])\n",
    "    return probabilities\n",
    "\n",
    "def predict(dBinary,dCont):\n",
    "    if dBinary[0]*dCont[0] > dCont[1]*dBinary[1]:\n",
    "        return 0\n",
    "    if dBinary[0]*dCont[0] < dCont[1]*dBinary[1]:\n",
    "        return 1\n",
    "\n",
    "def getPredictions(testSet,contSum,binaryProb,iContStart,iContEnd,iBinEnd):\n",
    "    predictions = []\n",
    "    idNumber = []\n",
    "    for row in testSet:\n",
    "        dBinary = predictBinary(binaryProb,row[iContEnd:iBinEnd])\n",
    "        dContinuous = getProbabilitiesContinuous(contSum,row[iContStart:iContEnd])\n",
    "        #dBinary = predictBinary(binaryProbabilities,row[2:len(testSet[0])])\n",
    "        #dContinuous = getProbabilitiesContinuous(continuousSummary,row[0:2])\n",
    "        aPrediction = predict(dBinary,dContinuous)\n",
    "        predictions.append(aPrediction)\n",
    "        idNumber.append(row[0])\n",
    "    return predictions,idNumber\n",
    "\n",
    "def predictContinuous(dContinuous):\n",
    "    if dContinuous[0] > dContinuous[1]:\n",
    "        return 0\n",
    "    if dContinuous[0] < dContinuous[1]:\n",
    "        return 1\n",
    "    \n",
    "def getPredicitonOnlyCont(testSet,continuousSummary,cIndexStart,cIndexEnd):\n",
    "    predictions = []\n",
    "    idNumber= []\n",
    "    for row in testSet:\n",
    "        #print row[cIndexStart:cIndexEnd]\n",
    "        dContinuous = getProbabilitiesContinuous(continuousSummary,row[cIndexStart:cIndexEnd])\n",
    "        #print dContinuous\n",
    "        aPrediction = predictContinuous(dContinuous)\n",
    "        predictions.append(aPrediction)\n",
    "        idNumber.append(row[0])\n",
    "    return predictions,idNumber\n",
    "\n",
    "def accuracy(testSet,predictions):\n",
    "    count = 0\n",
    "    for i in range(len(testSet)):\n",
    "        if testSet[i][-1] == predictions[i]:\n",
    "            count += 1\n",
    "    return (count/float(len(testSet))) * 100.0"
   ]
  },
  {
   "cell_type": "code",
   "execution_count": 3,
   "metadata": {
    "collapsed": false
   },
   "outputs": [
    {
     "name": "stdout",
     "output_type": "stream",
     "text": [
      "['numberOfRaces', 'age', 'sex']\n",
      "['sex', 'race5', 'race6', 'race7', 'race8', 'race1', 'race2', 'race3']\n",
      "['age', 'sex']\n",
      "12\n"
     ]
    }
   ],
   "source": [
    "filename = './parsedDataNoTime.csv'\n",
    "dataset,X,y,c = getDataReady(filename)\n",
    "# race1-4 2012-2015 full \n",
    "# race5-6 2012-2015 1/2\n",
    "print c[1:4]\n",
    "print c[3:(len(dataset[0])-1)]\n",
    "print c[2:4]\n",
    "print len(c)"
   ]
  },
  {
   "cell_type": "code",
   "execution_count": 4,
   "metadata": {
    "collapsed": false
   },
   "outputs": [
    {
     "name": "stdout",
     "output_type": "stream",
     "text": [
      "45.9208873184\n",
      "0.490621107174\n"
     ]
    }
   ],
   "source": [
    "# cont features: numberOfRaces', 'age\n",
    "# no binary\n",
    "# label set is race 4: 2015 full marathon\n",
    "# we evaluate the train error\n",
    "accuracies = []\n",
    "predictions = []\n",
    "for i in range(0,100):\n",
    "    trainSet, testSet = splitDataset(dataset,0.6)\n",
    "    summaryContinuous = {0:[],1:[]}\n",
    "    binaryProb = {0:[], 1:[]}\n",
    "    for i in range(1,3):\n",
    "        [m0,s0],[m1,s1] = getMeanStd(dataset,i,-1)\n",
    "        summaryContinuous[0].append([m0,s0])\n",
    "        summaryContinuous[1].append([m1,s1])\n",
    "    predictions, idNumber = getPredicitonOnlyCont(trainSet,summaryContinuous,1,3)\n",
    "    accuracies.append(accuracy(trainSet,predictions))\n",
    "print mean(accuracies)\n",
    "print std(accuracies)"
   ]
  },
  {
   "cell_type": "code",
   "execution_count": 5,
   "metadata": {
    "collapsed": false
   },
   "outputs": [
    {
     "name": "stdout",
     "output_type": "stream",
     "text": [
      "45.9667255595\n",
      "0.686757133983\n"
     ]
    }
   ],
   "source": [
    "# cont features: numberOfRaces', 'age\n",
    "# no binary\n",
    "# label set is race 4: 2015 full marathon\n",
    "# we evaluate the test error\n",
    "accuracies = []\n",
    "predictions = []\n",
    "for i in range(0,100):\n",
    "    trainSet, testSet = splitDataset(dataset,0.6)\n",
    "    summaryContinuous = {0:[],1:[]}\n",
    "    binaryProb = {0:[], 1:[]}\n",
    "    for i in range(1,3):\n",
    "        [m0,s0],[m1,s1] = getMeanStd(dataset,i,-1)\n",
    "        summaryContinuous[0].append([m0,s0])\n",
    "        summaryContinuous[1].append([m1,s1])\n",
    "    predictions, idNumber = getPredicitonOnlyCont(testSet,summaryContinuous,1,3)\n",
    "    accuracies.append(accuracy(testSet,predictions))\n",
    "print mean(accuracies)\n",
    "print std(accuracies)"
   ]
  },
  {
   "cell_type": "code",
   "execution_count": 6,
   "metadata": {
    "collapsed": false
   },
   "outputs": [
    {
     "name": "stdout",
     "output_type": "stream",
     "text": [
      "95.0113859442\n",
      "0.202387724468\n"
     ]
    }
   ],
   "source": [
    "# cont features: numberOfRaces', 'age\n",
    "# binary features: 'sex', 'race5', 'race6', 'race7', 'race8', 'race1', 'race2', 'race3'\n",
    "# first we find the training accuracy\n",
    "accuracies = []\n",
    "predictions = []\n",
    "for i in range(0,100):\n",
    "    trainSet, testSet = splitDataset(dataset,0.6)\n",
    "    summaryContinuous = {0:[],1:[]}\n",
    "    binaryProb = {0:[], 1:[]}\n",
    "    for i in range(1,3):\n",
    "        [m0,s0],[m1,s1] = getMeanStd(dataset,i,-1)\n",
    "        summaryContinuous[0].append([m0,s0])\n",
    "        summaryContinuous[1].append([m1,s1])\n",
    "    for i in range(3,len(dataset[0])-1):\n",
    "        class0,class1 = getProbBinary(dataset,i,-1) \n",
    "        binaryProb[0].append(class0)\n",
    "        binaryProb[1].append(class1)\n",
    "    predictions,idNumber = getPredictions(trainSet,summaryContinuous,binaryProb,1,3,(len(dataset[0])-1))\n",
    "    accuracies.append(accuracy(trainSet,predictions))\n",
    "print mean(accuracies)\n",
    "print std(accuracies)"
   ]
  },
  {
   "cell_type": "code",
   "execution_count": 7,
   "metadata": {
    "collapsed": false
   },
   "outputs": [
    {
     "name": "stdout",
     "output_type": "stream",
     "text": [
      "95.0341578327\n",
      "0.291399984108\n"
     ]
    }
   ],
   "source": [
    "# cont features: numberOfRaces', 'age\n",
    "# binary features: 'sex', 'race5', 'race6', 'race7', 'race8', 'race1', 'race2', 'race3'\n",
    "# now we are ready to test with the test sets and find test accuracy\n",
    "accuracies = []\n",
    "predictions = []\n",
    "for i in range(0,100):\n",
    "    trainSet, testSet = splitDataset(dataset,0.6)\n",
    "    summaryContinuous = {0:[],1:[]}\n",
    "    binaryProb = {0:[], 1:[]}\n",
    "    for i in range(1,3):\n",
    "        [m0,s0],[m1,s1] = getMeanStd(dataset,i,-1)\n",
    "        summaryContinuous[0].append([m0,s0])\n",
    "        summaryContinuous[1].append([m1,s1])\n",
    "    for i in range(3,len(dataset[0])-1):\n",
    "        class0,class1 = getProbBinary(dataset,i,-1) \n",
    "        binaryProb[0].append(class0)\n",
    "        binaryProb[1].append(class1)\n",
    "    predictions,idNumber = getPredictions(testSet,summaryContinuous,binaryProb,1,3,(len(dataset[0])-1))\n",
    "    accuracies.append(accuracy(testSet,predictions))\n",
    "print mean(accuracies)\n",
    "print std(accuracies)"
   ]
  }
 ],
 "metadata": {
  "anaconda-cloud": {},
  "kernelspec": {
   "display_name": "Python [Root]",
   "language": "python",
   "name": "Python [Root]"
  },
  "language_info": {
   "codemirror_mode": {
    "name": "ipython",
    "version": 2
   },
   "file_extension": ".py",
   "mimetype": "text/x-python",
   "name": "python",
   "nbconvert_exporter": "python",
   "pygments_lexer": "ipython2",
   "version": "2.7.12"
  }
 },
 "nbformat": 4,
 "nbformat_minor": 0
}
